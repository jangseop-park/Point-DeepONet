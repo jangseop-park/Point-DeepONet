{
 "cells": [
  {
   "cell_type": "code",
   "execution_count": null,
   "metadata": {},
   "outputs": [
    {
     "name": "stdout",
     "output_type": "stream",
     "text": [
      "Using backend: pytorch\n",
      "Other supported backends: tensorflow.compat.v1, tensorflow, jax, paddle.\n",
      "paddle supports more examples now and is recommended.\n",
      "\n",
      "\n",
      "Model parameters:\n",
      "Device: cuda\n",
      "Run number: 0\n",
      "Folder name: DeepONet_RUN0_D3000_N5000_branchinput_mlc_trunkinput_xyzd_output_xyzs_split_random\n",
      "Iterations: 40000\n",
      "Batch Size: 16\n",
      "Learning Rate: 0.001\n",
      "Number of Samples: 3000\n",
      "Data Split Method: random\n",
      "Branch input components: mlc\n",
      "Trunk input components: xyzd\n",
      "Output components: xyzs\n",
      "\n",
      "\n",
      "branch_input_train.shape = (2400, 5)\n",
      "branch_input_test.shape = (600, 5)\n",
      "trunk_input_train.shape = (2400, 5000, 4)\n",
      "trunk_input_test.shape = (600, 5000, 4)\n",
      "s_train.shape = (2400, 5000, 4)\n",
      "s_test.shape = (600, 5000, 4)\n",
      "\n",
      "\n",
      "branch_net:\n",
      "Sequential(\n",
      "  (0): Linear(in_features=5, out_features=128, bias=True)\n",
      "  (1): SiLU()\n",
      "  (2): Linear(in_features=128, out_features=128, bias=True)\n",
      "  (3): SiLU()\n",
      "  (4): Linear(in_features=128, out_features=256, bias=True)\n",
      "  (5): SiLU()\n",
      "  (6): Linear(in_features=256, out_features=128, bias=True)\n",
      "  (7): SiLU()\n",
      ")\n",
      "\n",
      "\n",
      "trunk_net:\n",
      "Sequential(\n",
      "  (0): Linear(in_features=4, out_features=128, bias=True)\n",
      "  (1): SiLU()\n",
      "  (2): Linear(in_features=128, out_features=128, bias=True)\n",
      "  (3): SiLU()\n",
      "  (4): Linear(in_features=128, out_features=256, bias=True)\n",
      "  (5): SiLU()\n",
      "  (6): Linear(in_features=256, out_features=512, bias=True)\n",
      "  (7): SiLU()\n",
      ")\n",
      "Compiling model...\n",
      "'compile' took 0.000208 s\n",
      "\n",
      "\n",
      "Model Structure:\n",
      "<deepxde.model.Model object at 0x7f594cb59910>\n",
      "Total number of trainable parameters: 264961\n",
      "\n",
      "Warning: epochs is deprecated and will be removed in a future version. Use iterations instead.\n",
      "Training model...\n",
      "\n",
      "Step      Train loss    Test loss     Test metric                                                                         \n",
      "0         [1.61e-01]    [1.57e-01]    [5.81e-02, 1.39e-02, 1.97e-01, 6.89e+01, -1.23e+04, -9.48e+03, -1.07e+05, -1.23e+05]\n",
      "100       [2.78e-02]    [3.98e-02]    [2.51e-02, 8.92e-03, 4.39e-02, 2.83e+01, 6.10e-01, -5.32e+01, 4.65e-01, -2.91e+00]  \n"
     ]
    }
   ],
   "source": [
    "!python main.py \\\n",
    "    --gpu 0 \\\n",
    "    --RUN 0 \\\n",
    "    --branch_input_components mlc \\\n",
    "    --trunk_input_components xyzd \\\n",
    "    --output_components xyzs \\\n",
    "    --N_pt 5000 \\\n",
    "    --N_iterations 40000 \\\n",
    "    --batch_size 16 \\\n",
    "    --learning_rate 0.001 \\\n",
    "    --dir_base_load_data ../data/sampled \\\n",
    "    --N_samples 3000 \\\n",
    "    --split_method random \\\n",
    "    --base_dir ../experiments\n"
   ]
  },
  {
   "cell_type": "code",
   "execution_count": null,
   "metadata": {},
   "outputs": [],
   "source": []
  }
 ],
 "metadata": {
  "kernelspec": {
   "display_name": "Python 3",
   "language": "python",
   "name": "python3"
  },
  "language_info": {
   "codemirror_mode": {
    "name": "ipython",
    "version": 3
   },
   "file_extension": ".py",
   "mimetype": "text/x-python",
   "name": "python",
   "nbconvert_exporter": "python",
   "pygments_lexer": "ipython3",
   "version": "3.8.10"
  }
 },
 "nbformat": 4,
 "nbformat_minor": 2
}
